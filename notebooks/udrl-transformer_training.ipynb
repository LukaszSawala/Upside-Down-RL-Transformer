{
 "cells": [
  {
   "cell_type": "code",
   "execution_count": null,
   "id": "d498b847",
   "metadata": {},
   "outputs": [],
   "source": [
    "import itertools\n",
    "import torch\n",
    "import torch.nn as nn\n",
    "import torch.optim as optim\n",
    "from torch.utils.data import DataLoader, TensorDataset, random_split\n",
    "from transformers import AutoModel, AutoConfig\n",
    "from tqdm import tqdm\n",
    "import h5py\n",
    "\n",
    "# ==== Configuration ====\n",
    "DEVICE = torch.device(\"cuda\" if torch.cuda.is_available() else \"cpu\")\n",
    "BATCH_SIZE = 16\n",
    "LEARNING_RATE = 1e-4\n",
    "EPOCHS = 5\n",
    "PATIENCE = 2"
   ]
  },
  {
   "cell_type": "code",
   "execution_count": 12,
   "id": "07c6214b",
   "metadata": {},
   "outputs": [],
   "source": [
    "# ==== Paths ====\n",
    "DATA_PATH = \"concatenated_data.hdf5\"\n",
    "BEST_MODEL_PATH = \"best_bert_udrl.pth\"\n",
    "\n",
    "\n",
    "# ==== Data Loading ====\n",
    "def load_data(path=DATA_PATH):\n",
    "    with h5py.File(path, \"r\") as f:\n",
    "        data = f[\"concatenated_data\"]\n",
    "        states = data[\"observations\"][:]\n",
    "        actions = data[\"actions\"][:]\n",
    "        rewards = data[\"rewards_to_go\"][:].reshape(-1, 1)\n",
    "        times = data[\"time_to_go\"][:].reshape(-1, 1)\n",
    "    return states, rewards, times, actions\n"
   ]
  },
  {
   "cell_type": "code",
   "execution_count": 13,
   "id": "65da650e",
   "metadata": {},
   "outputs": [],
   "source": [
    "X_s, X_r, X_t, y = load_data()\n",
    "X_s, X_r, X_t, y = map(torch.tensor, (X_s, X_r, X_t, y))"
   ]
  },
  {
   "cell_type": "code",
   "execution_count": 14,
   "id": "32c12584",
   "metadata": {},
   "outputs": [],
   "source": [
    "dataset = TensorDataset(X_s.float(), X_r.float(), X_t.float(), y.float())\n",
    "lengths = [int(len(dataset) * 0.8), int(len(dataset) * 0.1)]\n",
    "lengths.append(len(dataset) - sum(lengths))"
   ]
  },
  {
   "cell_type": "code",
   "execution_count": 15,
   "id": "1aeae7c5",
   "metadata": {},
   "outputs": [],
   "source": [
    "train_ds, val_ds, test_ds = random_split(dataset, lengths, generator=torch.Generator().manual_seed(42))"
   ]
  },
  {
   "cell_type": "code",
   "execution_count": 16,
   "id": "9cd7bbf0",
   "metadata": {},
   "outputs": [],
   "source": [
    "train_loader = DataLoader(train_ds, batch_size=BATCH_SIZE, shuffle=True)\n",
    "val_loader = DataLoader(val_ds, batch_size=BATCH_SIZE)\n",
    "test_loader = DataLoader(test_ds, batch_size=BATCH_SIZE)"
   ]
  },
  {
   "cell_type": "code",
   "execution_count": 22,
   "id": "857f6d6e",
   "metadata": {},
   "outputs": [],
   "source": [
    "def train(BATCH_SIZE, LEARNING_RATE, EPOCHS):\n",
    "    # Load untrained BERT-small\n",
    "    config = AutoConfig.from_pretrained(\"prajjwal1/bert-small\")\n",
    "    config.vocab_size = 1  # dummy since we're using inputs_embeds\n",
    "    config.max_position_embeddings = 3\n",
    "    model_bert = AutoModel.from_config(config).to(DEVICE)\n",
    "\n",
    "    # Create input projection layers and head\n",
    "    d_r_encoder = nn.Linear(1, config.hidden_size).to(DEVICE)\n",
    "    d_t_encoder = nn.Linear(1, config.hidden_size).to(DEVICE)\n",
    "    state_encoder = nn.Linear(105, config.hidden_size).to(DEVICE)\n",
    "    head = nn.Linear(config.hidden_size, 8).to(DEVICE)\n",
    "\n",
    "    optimizer = optim.Adam(list(model_bert.parameters()) + \n",
    "                           list(d_r_encoder.parameters()) + \n",
    "                           list(d_t_encoder.parameters()) + \n",
    "                           list(state_encoder.parameters()) + \n",
    "                           list(head.parameters()), lr=LEARNING_RATE)\n",
    "    loss_fn = nn.MSELoss()\n",
    "\n",
    "    best_loss = float(\"inf\")\n",
    "    patience = PATIENCE\n",
    "\n",
    "    for epoch in range(EPOCHS):\n",
    "        model_bert.train()\n",
    "        total_train_loss = 0.0\n",
    "        for s, r, t, a in tqdm(train_loader, desc=f\"Epoch {epoch+1}\"):\n",
    "            s, r, t, a = s.to(DEVICE), r.to(DEVICE), t.to(DEVICE), a.to(DEVICE)\n",
    "            optimizer.zero_grad()\n",
    "            encoded_r = d_r_encoder(r).unsqueeze(1)\n",
    "            encoded_t = d_t_encoder(t).unsqueeze(1)\n",
    "            encoded_s = state_encoder(s).unsqueeze(1)\n",
    "            sequence = torch.cat([encoded_r, encoded_t, encoded_s], dim=1)\n",
    "            bert_out = model_bert(inputs_embeds=sequence).last_hidden_state\n",
    "            pred = head(bert_out[:, -1])\n",
    "            loss = loss_fn(pred, a)\n",
    "            loss.backward()\n",
    "            optimizer.step()\n",
    "            total_train_loss += loss.item()\n",
    "        avg_train_loss = total_train_loss / len(train_loader)\n",
    "\n",
    "        # Validation\n",
    "        model_bert.eval()\n",
    "        total_val_loss = 0.0\n",
    "        with torch.no_grad():\n",
    "            for s, r, t, a in val_loader:\n",
    "                s, r, t, a = s.to(DEVICE), r.to(DEVICE), t.to(DEVICE), a.to(DEVICE)\n",
    "                encoded_r = d_r_encoder(r).unsqueeze(1)\n",
    "                encoded_t = d_t_encoder(t).unsqueeze(1)\n",
    "                encoded_s = state_encoder(s).unsqueeze(1)\n",
    "                sequence = torch.cat([encoded_r, encoded_t, encoded_s], dim=1)\n",
    "                bert_out = model_bert(inputs_embeds=sequence).last_hidden_state\n",
    "                pred = head(bert_out[:, -1])\n",
    "                loss = loss_fn(pred, a)\n",
    "                total_val_loss += loss.item()\n",
    "        avg_val_loss = total_val_loss / len(val_loader)\n",
    "\n",
    "        print(f\"Epoch {epoch+1}: Train Loss = {avg_train_loss:.4f}, Val Loss = {avg_val_loss:.4f}\")\n",
    "\n",
    "        if avg_val_loss < best_loss:\n",
    "            best_loss = avg_val_loss\n",
    "            patience = PATIENCE\n",
    "            torch.save({\n",
    "                'bert': model_bert.state_dict(),\n",
    "                'd_r': d_r_encoder.state_dict(),\n",
    "                'd_t': d_t_encoder.state_dict(),\n",
    "                'state': state_encoder.state_dict(),\n",
    "                'head': head.state_dict()\n",
    "            }, BEST_MODEL_PATH)\n",
    "            print(\"best model found !!!!!!!!!!!!!!!!!!\")\n",
    "        else:\n",
    "            patience -= 1\n",
    "            if patience == 0:\n",
    "                print(\"Early stopping.\")\n",
    "                break\n",
    "\n",
    "    print(\"Training complete.\")\n"
   ]
  },
  {
   "cell_type": "code",
   "execution_count": 19,
   "id": "ab7de30f",
   "metadata": {},
   "outputs": [
    {
     "data": {
      "text/plain": [
       "device(type='cuda')"
      ]
     },
     "execution_count": 19,
     "metadata": {},
     "output_type": "execute_result"
    }
   ],
   "source": [
    "DEVICE"
   ]
  },
  {
   "cell_type": "code",
   "execution_count": 23,
   "id": "66b880dc",
   "metadata": {},
   "outputs": [],
   "source": [
    "def grid_search():\n",
    "    # Define hyperparameters grid\n",
    "    batch_sizes = [16, 8]\n",
    "    learning_rates = [1e-4, 5e-5]\n",
    "    epochs_list = [10, 20]\n",
    "\n",
    "    # Create combinations of all hyperparameters\n",
    "    param_grid = itertools.product(batch_sizes, learning_rates, epochs_list)\n",
    "    \n",
    "    # Grid Search\n",
    "    for BATCH_SIZE, LEARNING_RATE, EPOCHS in param_grid:\n",
    "        print(f\"Running grid search with BATCH_SIZE={BATCH_SIZE}, LEARNING_RATE={LEARNING_RATE}, EPOCHS={EPOCHS}\")\n",
    "        train(BATCH_SIZE, LEARNING_RATE, EPOCHS)"
   ]
  },
  {
   "cell_type": "code",
   "execution_count": 24,
   "id": "b2a2b5ed",
   "metadata": {},
   "outputs": [
    {
     "name": "stdout",
     "output_type": "stream",
     "text": [
      "Running grid search with BATCH_SIZE=16, LEARNING_RATE=0.0001, EPOCHS=10\n"
     ]
    },
    {
     "name": "stderr",
     "output_type": "stream",
     "text": [
      "Epoch 1: 100%|██████████| 49970/49970 [06:58<00:00, 119.27it/s]\n"
     ]
    },
    {
     "name": "stdout",
     "output_type": "stream",
     "text": [
      "Epoch 1: Train Loss = 0.0391, Val Loss = 0.0248\n",
      "best model found !!!!!!!!!!!!!!!!!!\n"
     ]
    },
    {
     "name": "stderr",
     "output_type": "stream",
     "text": [
      "Epoch 2: 100%|██████████| 49970/49970 [07:00<00:00, 118.94it/s]\n"
     ]
    },
    {
     "name": "stdout",
     "output_type": "stream",
     "text": [
      "Epoch 2: Train Loss = 0.0243, Val Loss = 0.0213\n",
      "best model found !!!!!!!!!!!!!!!!!!\n"
     ]
    },
    {
     "name": "stderr",
     "output_type": "stream",
     "text": [
      "Epoch 3: 100%|██████████| 49970/49970 [06:57<00:00, 119.66it/s]\n"
     ]
    },
    {
     "name": "stdout",
     "output_type": "stream",
     "text": [
      "Epoch 3: Train Loss = 0.0222, Val Loss = 0.0202\n",
      "best model found !!!!!!!!!!!!!!!!!!\n"
     ]
    },
    {
     "name": "stderr",
     "output_type": "stream",
     "text": [
      "Epoch 4: 100%|██████████| 49970/49970 [06:48<00:00, 122.43it/s]\n"
     ]
    },
    {
     "name": "stdout",
     "output_type": "stream",
     "text": [
      "Epoch 4: Train Loss = 0.0212, Val Loss = 0.0198\n",
      "best model found !!!!!!!!!!!!!!!!!!\n"
     ]
    },
    {
     "name": "stderr",
     "output_type": "stream",
     "text": [
      "Epoch 5: 100%|██████████| 49970/49970 [06:46<00:00, 122.97it/s]\n"
     ]
    },
    {
     "name": "stdout",
     "output_type": "stream",
     "text": [
      "Epoch 5: Train Loss = 0.0205, Val Loss = 0.0192\n",
      "best model found !!!!!!!!!!!!!!!!!!\n"
     ]
    },
    {
     "name": "stderr",
     "output_type": "stream",
     "text": [
      "Epoch 6: 100%|██████████| 49970/49970 [06:48<00:00, 122.33it/s]\n"
     ]
    },
    {
     "name": "stdout",
     "output_type": "stream",
     "text": [
      "Epoch 6: Train Loss = 0.0200, Val Loss = 0.0195\n"
     ]
    },
    {
     "name": "stderr",
     "output_type": "stream",
     "text": [
      "Epoch 7: 100%|██████████| 49970/49970 [06:46<00:00, 122.93it/s]\n"
     ]
    },
    {
     "name": "stdout",
     "output_type": "stream",
     "text": [
      "Epoch 7: Train Loss = 0.0197, Val Loss = 0.0190\n",
      "best model found !!!!!!!!!!!!!!!!!!\n"
     ]
    },
    {
     "name": "stderr",
     "output_type": "stream",
     "text": [
      "Epoch 8: 100%|██████████| 49970/49970 [06:41<00:00, 124.57it/s]\n"
     ]
    },
    {
     "name": "stdout",
     "output_type": "stream",
     "text": [
      "Epoch 8: Train Loss = 0.0193, Val Loss = 0.0188\n",
      "best model found !!!!!!!!!!!!!!!!!!\n"
     ]
    },
    {
     "name": "stderr",
     "output_type": "stream",
     "text": [
      "Epoch 9: 100%|██████████| 49970/49970 [06:39<00:00, 125.02it/s]\n"
     ]
    },
    {
     "name": "stdout",
     "output_type": "stream",
     "text": [
      "Epoch 9: Train Loss = 0.0190, Val Loss = 0.0184\n",
      "best model found !!!!!!!!!!!!!!!!!!\n"
     ]
    },
    {
     "name": "stderr",
     "output_type": "stream",
     "text": [
      "Epoch 10: 100%|██████████| 49970/49970 [06:43<00:00, 123.83it/s]\n"
     ]
    },
    {
     "name": "stdout",
     "output_type": "stream",
     "text": [
      "Epoch 10: Train Loss = 0.0188, Val Loss = 0.0188\n",
      "Training complete.\n",
      "Running grid search with BATCH_SIZE=16, LEARNING_RATE=0.0001, EPOCHS=20\n"
     ]
    },
    {
     "name": "stderr",
     "output_type": "stream",
     "text": [
      "Epoch 1:  38%|███▊      | 18751/49970 [02:31<04:12, 123.47it/s]\n"
     ]
    },
    {
     "ename": "KeyboardInterrupt",
     "evalue": "",
     "output_type": "error",
     "traceback": [
      "\u001b[0;31m---------------------------------------------------------------------------\u001b[0m",
      "\u001b[0;31mKeyboardInterrupt\u001b[0m                         Traceback (most recent call last)",
      "Cell \u001b[0;32mIn [24], line 1\u001b[0m\n\u001b[0;32m----> 1\u001b[0m \u001b[43mgrid_search\u001b[49m\u001b[43m(\u001b[49m\u001b[43m)\u001b[49m\n",
      "Cell \u001b[0;32mIn [23], line 13\u001b[0m, in \u001b[0;36mgrid_search\u001b[0;34m()\u001b[0m\n\u001b[1;32m     11\u001b[0m \u001b[38;5;28;01mfor\u001b[39;00m BATCH_SIZE, LEARNING_RATE, EPOCHS \u001b[38;5;129;01min\u001b[39;00m param_grid:\n\u001b[1;32m     12\u001b[0m     \u001b[38;5;28mprint\u001b[39m(\u001b[38;5;124mf\u001b[39m\u001b[38;5;124m\"\u001b[39m\u001b[38;5;124mRunning grid search with BATCH_SIZE=\u001b[39m\u001b[38;5;132;01m{\u001b[39;00mBATCH_SIZE\u001b[38;5;132;01m}\u001b[39;00m\u001b[38;5;124m, LEARNING_RATE=\u001b[39m\u001b[38;5;132;01m{\u001b[39;00mLEARNING_RATE\u001b[38;5;132;01m}\u001b[39;00m\u001b[38;5;124m, EPOCHS=\u001b[39m\u001b[38;5;132;01m{\u001b[39;00mEPOCHS\u001b[38;5;132;01m}\u001b[39;00m\u001b[38;5;124m\"\u001b[39m)\n\u001b[0;32m---> 13\u001b[0m     \u001b[43mtrain\u001b[49m\u001b[43m(\u001b[49m\u001b[43mBATCH_SIZE\u001b[49m\u001b[43m,\u001b[49m\u001b[43m \u001b[49m\u001b[43mLEARNING_RATE\u001b[49m\u001b[43m,\u001b[49m\u001b[43m \u001b[49m\u001b[43mEPOCHS\u001b[49m\u001b[43m)\u001b[49m\n",
      "Cell \u001b[0;32mIn [22], line 39\u001b[0m, in \u001b[0;36mtrain\u001b[0;34m(BATCH_SIZE, LEARNING_RATE, EPOCHS)\u001b[0m\n\u001b[1;32m     37\u001b[0m     loss\u001b[38;5;241m.\u001b[39mbackward()\n\u001b[1;32m     38\u001b[0m     optimizer\u001b[38;5;241m.\u001b[39mstep()\n\u001b[0;32m---> 39\u001b[0m     total_train_loss \u001b[38;5;241m+\u001b[39m\u001b[38;5;241m=\u001b[39m \u001b[43mloss\u001b[49m\u001b[38;5;241;43m.\u001b[39;49m\u001b[43mitem\u001b[49m\u001b[43m(\u001b[49m\u001b[43m)\u001b[49m\n\u001b[1;32m     40\u001b[0m avg_train_loss \u001b[38;5;241m=\u001b[39m total_train_loss \u001b[38;5;241m/\u001b[39m \u001b[38;5;28mlen\u001b[39m(train_loader)\n\u001b[1;32m     42\u001b[0m \u001b[38;5;66;03m# Validation\u001b[39;00m\n",
      "\u001b[0;31mKeyboardInterrupt\u001b[0m: "
     ]
    }
   ],
   "source": [
    "grid_search()"
   ]
  }
 ],
 "metadata": {
  "kernelspec": {
   "display_name": ".venv",
   "language": "python",
   "name": "python3"
  },
  "language_info": {
   "codemirror_mode": {
    "name": "ipython",
    "version": 3
   },
   "file_extension": ".py",
   "mimetype": "text/x-python",
   "name": "python",
   "nbconvert_exporter": "python",
   "pygments_lexer": "ipython3",
   "version": "3.11.9"
  }
 },
 "nbformat": 4,
 "nbformat_minor": 5
}

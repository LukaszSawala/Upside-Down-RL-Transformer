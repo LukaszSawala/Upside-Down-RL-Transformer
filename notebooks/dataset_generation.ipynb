{
 "cells": [
  {
   "cell_type": "code",
   "execution_count": null,
   "metadata": {},
   "outputs": [
    {
     "name": "stdout",
     "output_type": "stream",
     "text": [
      "Keys in episode_87: ['actions', 'infos', 'observations', 'observations_data', 'removed_last_obervation', 'rewards', 'rewards_to_go', 'terminations', 'time_to_go', 'truncations']\n",
      "[5.95760558 5.13749167 4.299624   4.63014727 4.43889723] [24.46376574 18.50616016 13.36866849  9.06904449  4.43889723] [5. 4. 3. 2. 1.]\n",
      "Action dimensions: (1000, 8)\n",
      "Observation dimensions: (1000, 105)\n",
      "Reward dimensions: (1000,)\n",
      "Termination dimensions: (1000,)\n",
      "Truncation dimensions: (1000,)\n"
     ]
    }
   ],
   "source": [
    "# Dataset testing\n",
    "import h5py\n",
    "import numpy as np\n",
    "\n",
    "# curr_dir = os.path.dirname(os.path.abspath(__file__))\n",
    "#parent_dir = os.path.dirname(curr_dir)\n",
    "#sys.path.append(parent_dir)\n",
    "\n",
    "file_path = \"../data/external/main_data.hdf5\"\n",
    "\n",
    "with h5py.File(file_path, \"r+\") as f:\n",
    "\n",
    "    #del episode_87[\"key-id\"] removing a thing\n",
    "    \n",
    "    episode_87 = f[\"episode_87\"]\n",
    "\n",
    "    # split observations into the useful and useless observations (1 more observation than action) if not done before\n",
    "    if \"removed_last_obervation\" not in episode_87.keys():\n",
    "        episode_87[\"removed_last_obervation\"] = episode_87[\"observations\"][-1]\n",
    "        episode_87[\"observations_data\"] = episode_87[\"observations\"][:-1]\n",
    "\n",
    "    print(\"Keys in episode_87:\", list(episode_87.keys()))\n",
    "\n",
    "    # Inspect data in each attribute\n",
    "    actions = episode_87[\"actions\"][:]\n",
    "    infos = episode_87[\"infos\"]\n",
    "    observations = episode_87[\"observations_data\"][:]\n",
    "    rewards = episode_87[\"rewards\"][:]\n",
    "    terminations = episode_87[\"terminations\"][:]\n",
    "    truncations = episode_87[\"truncations\"][:]\n",
    "\n",
    "    reward_sum = np.sum(rewards)\n",
    "    rewards_to_go = np.zeros_like(rewards)\n",
    "    time_to_go = np.zeros_like(rewards)\n",
    "    for i in range (len(rewards)):\n",
    "        rewards_to_go[i] = reward_sum\n",
    "        reward_sum -= rewards[i]\n",
    "        time_to_go[i] = len(rewards) - i\n",
    "    # save the rewards as labels\n",
    "    \n",
    "    if \"rewards_to_go\" not in episode_87.keys():\n",
    "        episode_87[\"rewards_to_go\"] = rewards_to_go\n",
    "        episode_87[\"time_to_go\"] = time_to_go\n",
    "\n",
    "    print(rewards[-5:], rewards_to_go[-5:], time_to_go[-5:])\n",
    "    # Dimensions:\n",
    "    print(f\"Action dimensions: {actions.shape}\")\n",
    "    print(f\"Observation dimensions: {observations.shape}\")\n",
    "    print(f\"Reward dimensions: {rewards.shape}\")\n",
    "    print(f\"Termination dimensions: {terminations.shape}\")\n",
    "    print(f\"Truncation dimensions: {truncations.shape}\")"
   ]
  }
 ],
 "metadata": {
  "kernelspec": {
   "display_name": "Python 3",
   "language": "python",
   "name": "python3"
  },
  "language_info": {
   "codemirror_mode": {
    "name": "ipython",
    "version": 3
   },
   "file_extension": ".py",
   "mimetype": "text/x-python",
   "name": "python",
   "nbconvert_exporter": "python",
   "pygments_lexer": "ipython3",
   "version": "3.11.9"
  }
 },
 "nbformat": 4,
 "nbformat_minor": 2
}
